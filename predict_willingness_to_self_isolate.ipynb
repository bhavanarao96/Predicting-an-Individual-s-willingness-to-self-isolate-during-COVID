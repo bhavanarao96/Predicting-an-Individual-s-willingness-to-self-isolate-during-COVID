{
  "nbformat": 4,
  "nbformat_minor": 0,
  "metadata": {
    "colab": {
      "name": "RSM8412_Team1_GroupAssignment1.ipynb",
      "provenance": [],
      "collapsed_sections": []
    },
    "kernelspec": {
      "display_name": "Python 3",
      "language": "python",
      "name": "python3"
    },
    "language_info": {
      "codemirror_mode": {
        "name": "ipython",
        "version": 3
      },
      "file_extension": ".py",
      "mimetype": "text/x-python",
      "name": "python",
      "nbconvert_exporter": "python",
      "pygments_lexer": "ipython3",
      "version": "3.8.8"
    }
  },
  "cells": [
    {
      "cell_type": "markdown",
      "metadata": {
        "id": "cCB2XZH7fTXG"
      },
      "source": [
        "# Group Assignment 1: KNN\n",
        "\n",
        "### Data Preprocessing (please upload dataset first)"
      ]
    },
    {
      "cell_type": "code",
      "metadata": {
        "id": "T8uSLq_mh3V2",
        "colab": {
          "base_uri": "https://localhost:8080/"
        },
        "outputId": "e19b4ed1-9c84-4b81-a5da-e915d94ababf"
      },
      "source": [
        "# import library\n",
        "import pandas as pd\n",
        "import numpy as np\n",
        "from scipy import stats\n",
        "from scipy.stats import chisquare as cs \n",
        "import scipy\n",
        "from scipy.stats import chi2\n",
        "from sklearn.preprocessing import StandardScaler\n",
        "from sklearn.model_selection import train_test_split\n",
        "from sklearn.model_selection import KFold\n",
        "from sklearn.model_selection import cross_val_score\n",
        "from sklearn.model_selection import GridSearchCV\n",
        "from sklearn.neighbors import KNeighborsClassifier\n",
        "import matplotlib.pyplot as plt\n",
        "import numpy as np\n",
        "import seaborn as sns\n",
        "from collections import Counter\n",
        "from sklearn.datasets import make_classification\n",
        "from imblearn.under_sampling import RandomUnderSampler\n",
        "from sklearn.metrics import classification_report\n",
        "from sklearn.metrics import confusion_matrix\n",
        "import scipy.stats as stats"
      ],
      "execution_count": null,
      "outputs": [
        {
          "output_type": "stream",
          "name": "stderr",
          "text": [
            "/usr/local/lib/python3.7/dist-packages/sklearn/externals/six.py:31: FutureWarning: The module is deprecated in version 0.21 and will be removed in version 0.23 since we've dropped support for Python 2.7. Please rely on the official version of six (https://pypi.org/project/six/).\n",
            "  \"(https://pypi.org/project/six/).\", FutureWarning)\n",
            "/usr/local/lib/python3.7/dist-packages/sklearn/utils/deprecation.py:144: FutureWarning: The sklearn.neighbors.base module is  deprecated in version 0.22 and will be removed in version 0.24. The corresponding classes / functions should instead be imported from sklearn.neighbors. Anything that cannot be imported from sklearn.neighbors is now part of the private API.\n",
            "  warnings.warn(message, FutureWarning)\n"
          ]
        }
      ]
    },
    {
      "cell_type": "markdown",
      "metadata": {
        "id": "iDq6JGDlFIei"
      },
      "source": [
        "\n",
        "\n",
        "> Import Data\n",
        "\n"
      ]
    },
    {
      "cell_type": "code",
      "metadata": {
        "id": "wAmEVQQgFNOp"
      },
      "source": [
        "df = pd.read_csv(\"COVID-19BehaviorData_CAN_USA.csv\")\n",
        "df = df.replace(r'^\\s*$', np.nan, regex=True)"
      ],
      "execution_count": null,
      "outputs": []
    },
    {
      "cell_type": "markdown",
      "metadata": {
        "id": "5kxFoE83FQtV"
      },
      "source": [
        "\n",
        "\n",
        "> Remove Columns\n",
        "\n"
      ]
    },
    {
      "cell_type": "code",
      "metadata": {
        "colab": {
          "base_uri": "https://localhost:8080/",
          "height": 172
        },
        "id": "DBAZYCFPb5-s",
        "outputId": "110c55a4-dcc7-4822-f6d2-08660785e8c8"
      },
      "source": [
        "# calculate missing value percentage in each column, and flag those > 70%\n",
        "df_sum = pd.DataFrame(df.isna().sum()).reset_index()\n",
        "df_sum[\"null_%\"] = df_sum[0]/df.shape[0]\n",
        "df_sum[df_sum[\"null_%\"] > 0.7]"
      ],
      "execution_count": null,
      "outputs": [
        {
          "output_type": "execute_result",
          "data": {
            "text/html": [
              "<div>\n",
              "<style scoped>\n",
              "    .dataframe tbody tr th:only-of-type {\n",
              "        vertical-align: middle;\n",
              "    }\n",
              "\n",
              "    .dataframe tbody tr th {\n",
              "        vertical-align: top;\n",
              "    }\n",
              "\n",
              "    .dataframe thead th {\n",
              "        text-align: right;\n",
              "    }\n",
              "</style>\n",
              "<table border=\"1\" class=\"dataframe\">\n",
              "  <thead>\n",
              "    <tr style=\"text-align: right;\">\n",
              "      <th></th>\n",
              "      <th>index</th>\n",
              "      <th>0</th>\n",
              "      <th>null_%</th>\n",
              "    </tr>\n",
              "  </thead>\n",
              "  <tbody>\n",
              "    <tr>\n",
              "      <th>15</th>\n",
              "      <td>i5a_health</td>\n",
              "      <td>26219</td>\n",
              "      <td>0.909592</td>\n",
              "    </tr>\n",
              "    <tr>\n",
              "      <th>16</th>\n",
              "      <td>i6_health</td>\n",
              "      <td>26219</td>\n",
              "      <td>0.909592</td>\n",
              "    </tr>\n",
              "    <tr>\n",
              "      <th>17</th>\n",
              "      <td>i7b_health</td>\n",
              "      <td>26509</td>\n",
              "      <td>0.919653</td>\n",
              "    </tr>\n",
              "    <tr>\n",
              "      <th>18</th>\n",
              "      <td>i8_health</td>\n",
              "      <td>26559</td>\n",
              "      <td>0.921388</td>\n",
              "    </tr>\n",
              "  </tbody>\n",
              "</table>\n",
              "</div>"
            ],
            "text/plain": [
              "         index      0    null_%\n",
              "15  i5a_health  26219  0.909592\n",
              "16   i6_health  26219  0.909592\n",
              "17  i7b_health  26509  0.919653\n",
              "18   i8_health  26559  0.921388"
            ]
          },
          "metadata": {},
          "execution_count": 3
        }
      ]
    },
    {
      "cell_type": "code",
      "metadata": {
        "colab": {
          "base_uri": "https://localhost:8080/"
        },
        "id": "EXf-26tfG9xN",
        "outputId": "33da6682-a478-40bd-f635-c4690283439b"
      },
      "source": [
        "# have a close look at i14_health_other\n",
        "df['i14_health_other'].value_counts()"
      ],
      "execution_count": null,
      "outputs": [
        {
          "output_type": "execute_result",
          "data": {
            "text/plain": [
              "__NA__                               26645\n",
              "Retail                                  87\n",
              "Office                                  59\n",
              "retail                                  38\n",
              "office                                  29\n",
              "                                     ...  \n",
              "On my property only.                     1\n",
              "Tourisme / excursions maritimes          1\n",
              "home manager                             1\n",
              "Accounting, only person in office        1\n",
              "Grocery cashier supervisor               1\n",
              "Name: i14_health_other, Length: 1367, dtype: int64"
            ]
          },
          "metadata": {},
          "execution_count": 36
        }
      ]
    },
    {
      "cell_type": "markdown",
      "metadata": {
        "id": "gf8fASUQfHL-"
      },
      "source": [
        "There are more than 70% of the records are missing in i5a_health, i6_health, i7b_health, i8_health, so they should be removed. Also, after looking into the data, over 70% of the records in i14_health_other column are '_NA_', therefore it should also be disregarded."
      ]
    },
    {
      "cell_type": "code",
      "metadata": {
        "id": "hDIUg0PnIPFX"
      },
      "source": [
        "df_new = df.drop(['i5a_health', 'i6_health', 'i7b_health', 'i8_health', 'i14_health_other'], axis = 1)"
      ],
      "execution_count": null,
      "outputs": []
    },
    {
      "cell_type": "code",
      "metadata": {
        "id": "3KefEifpL22E"
      },
      "source": [
        "# columns irrelevant to predict the target variable are dropped\n",
        "df_new = df_new.drop(['region_state', 'Index', 'RecordNo', 'endtime', 'qweek', 'i3_health', 'i4_health', 'i5_health_1', 'i5_health_2', 'i5_health_3', 'i5_health_4', 'i5_health_5', 'i5_health_99'], axis = 1)"
      ],
      "execution_count": null,
      "outputs": []
    },
    {
      "cell_type": "code",
      "metadata": {
        "colab": {
          "base_uri": "https://localhost:8080/"
        },
        "id": "8yrI1QdsNuaO",
        "outputId": "491111b6-7b22-491d-85d5-0b434cde4d58"
      },
      "source": [
        "df_new.shape"
      ],
      "execution_count": null,
      "outputs": [
        {
          "output_type": "execute_result",
          "data": {
            "text/plain": [
              "(28825, 61)"
            ]
          },
          "metadata": {},
          "execution_count": 7
        }
      ]
    },
    {
      "cell_type": "markdown",
      "metadata": {
        "id": "oouUuRK4IUjv"
      },
      "source": [
        "\n",
        "\n",
        "> Missing Value\n",
        "\n"
      ]
    },
    {
      "cell_type": "code",
      "metadata": {
        "colab": {
          "base_uri": "https://localhost:8080/"
        },
        "id": "x9zWQMh3IXja",
        "outputId": "d08d0201-c1eb-4bcc-e918-887ce0350cae"
      },
      "source": [
        "# how many records are missing in target variable i9_health?\n",
        "df_new['i9_health'].isna().sum()/df_new.shape[0]"
      ],
      "execution_count": null,
      "outputs": [
        {
          "output_type": "execute_result",
          "data": {
            "text/plain": [
              "0.06699045967042498"
            ]
          },
          "metadata": {},
          "execution_count": 8
        }
      ]
    },
    {
      "cell_type": "markdown",
      "metadata": {
        "id": "_Y17u8OJJVeR"
      },
      "source": [
        "Since there are only 6.7% of records are missing in i9_health, we filter out these missing rows. The missing records in other columns are replaced with NaN "
      ]
    },
    {
      "cell_type": "code",
      "metadata": {
        "id": "_6j908NlLbcd"
      },
      "source": [
        "df_new = df_new[df_new['i9_health'].notnull()]\n",
        "df_new = df_new.replace(np.nan, 'NaN')"
      ],
      "execution_count": null,
      "outputs": []
    },
    {
      "cell_type": "markdown",
      "metadata": {
        "id": "v9ckUq8xMMrN"
      },
      "source": [
        "\n",
        "\n",
        "> Aggregate Columns\n",
        "\n"
      ]
    },
    {
      "cell_type": "code",
      "metadata": {
        "id": "AemUBs4CPhSn"
      },
      "source": [
        "# aggregate i14 and employment_status -> Catagorize each row into Work From Home, Not Work From Home and Not Working.\n",
        "df_new['emp_stat'] = np.where((df_new['i14_health_1']=='Yes') | (df_new['i14_health_2']=='Yes') |(df_new['i14_health_3']=='Yes')|\n",
        "                          (df_new['i14_health_4']=='Yes') | (df_new['i14_health_5']=='Yes') |(df_new['i14_health_6']=='Yes')|\n",
        "                          (df_new['i14_health_7']=='Yes') | (df_new['i14_health_8']=='Yes') |(df_new['i14_health_9']=='Yes')|\n",
        "                          (df_new['i14_health_10']=='Yes') | (df_new['i14_health_96']=='Yes') |(df_new['i14_health_98']=='Yes'), 'not_wfh','')\n",
        "for index, row in df_new.iterrows():\n",
        "        if row['i14_health_99']=='Yes' and row['employment_status'] not in ['Not working', 'Retired', 'Unemployed']:\n",
        "            df_new.at[index,'emp_stat']='wfh'\n",
        "for index, row in df_new.iterrows():\n",
        "        if row['emp_stat']=='':\n",
        "            df_new.at[index,'emp_stat']='not_working'\n",
        "df_new = df_new.drop(['i14_health_1', 'i14_health_2', 'i14_health_3', 'i14_health_4', 'i14_health_5', 'i14_health_6', 'i14_health_7', 'i14_health_8', 'i14_health_9', 'i14_health_10', 'i14_health_96', 'i14_health_98', 'i14_health_99', 'employment_status'], axis=1)\n"
      ],
      "execution_count": null,
      "outputs": []
    },
    {
      "cell_type": "code",
      "metadata": {
        "id": "2UeVS3tXRKhe"
      },
      "source": [
        "# only use d1_health_99 -Pre-existing health conditions? \n",
        "df_new = df_new.drop(['d1_health_1','d1_health_2', 'd1_health_3', 'd1_health_4', 'd1_health_5', 'd1_health_6', 'd1_health_7', 'd1_health_8', 'd1_health_9', 'd1_health_10', 'd1_health_11', 'd1_health_12', 'd1_health_13', 'd1_health_98'], axis=1)\n"
      ],
      "execution_count": null,
      "outputs": []
    },
    {
      "cell_type": "code",
      "metadata": {
        "colab": {
          "base_uri": "https://localhost:8080/"
        },
        "id": "vTLS2__SOHd2",
        "outputId": "048da9d4-4c5c-43a1-f62e-648bbb162731"
      },
      "source": [
        "df_new.shape"
      ],
      "execution_count": null,
      "outputs": [
        {
          "output_type": "execute_result",
          "data": {
            "text/plain": [
              "(26894, 34)"
            ]
          },
          "metadata": {},
          "execution_count": 12
        }
      ]
    },
    {
      "cell_type": "markdown",
      "metadata": {
        "id": "rwcXLbok3rz7"
      },
      "source": [
        "# Exploratory Data Analysis\n",
        "\n",
        "---\n",
        "\n"
      ]
    },
    {
      "cell_type": "markdown",
      "metadata": {
        "id": "iewadeatMc6F"
      },
      "source": [
        "\n",
        "\n",
        "## Relationship between i9_health and categorical variables\n",
        "\n"
      ]
    },
    {
      "cell_type": "code",
      "metadata": {
        "id": "ocjJtdFwii0z"
      },
      "source": [
        "#Perform Chi-square test on catagorical variables. Eliminate non-significant variables with p-value<0.05\n",
        "cat_cols = [x for x in df_new.columns.to_list() if x not in ['i1_health', 'i2_health', 'i7a_health', 'i13_health', 'weight', 'age']]\n",
        "cat_cols\n",
        "for item in cat_cols:\n",
        "  crosstab = pd.crosstab(df_new['i9_health'], df_new[item])\n",
        "  pvalue = stats.chi2_contingency(crosstab)[1]\n",
        "  if pvalue > 0.05:\n",
        "    print('The p-value of chi-sqaure test between i9 and {} is {}'.format(item, pvalue))\n",
        "  else:\n",
        "    pass"
      ],
      "execution_count": null,
      "outputs": []
    },
    {
      "cell_type": "markdown",
      "metadata": {
        "id": "2i4XSZSgaFNV"
      },
      "source": [
        "All categorical variables are significant."
      ]
    },
    {
      "cell_type": "markdown",
      "metadata": {
        "id": "h25q-exe5n-g"
      },
      "source": [
        "**Catagory wise response to i9_health**"
      ]
    },
    {
      "cell_type": "code",
      "metadata": {
        "colab": {
          "base_uri": "https://localhost:8080/",
          "height": 248
        },
        "id": "_luonP9A5n-g",
        "outputId": "d37f8e67-9646-4e11-bf02-aa2b8f4205a0"
      },
      "source": [
        "#Exploration of response with respect to work status - Cannot work from home\n",
        "data = df_new[df_new['emp_stat']=='not_wfh']\n",
        "data=data.groupby(\"i9_health\")[\"emp_stat\"].count()\n",
        "data.plot.pie(autopct=\"%.1f%%\");"
      ],
      "execution_count": null,
      "outputs": [
        {
          "output_type": "display_data",
          "data": {
            "image/png": "[encoded data removed]",
            "text/plain": [
              "<Figure size 432x288 with 1 Axes>"
            ]
          },
          "metadata": {}
        }
      ]
    },
    {
      "cell_type": "code",
      "metadata": {
        "colab": {
          "base_uri": "https://localhost:8080/",
          "height": 248
        },
        "id": "BopcPbQT5n-h",
        "outputId": "ba770a1f-6bcc-400c-f332-45410268bcf3"
      },
      "source": [
        "#Exploration of response with respect to work status - Can work from home\n",
        "data = df_new[df_new['emp_stat']=='wfh']\n",
        "data=data.groupby(\"i9_health\")[\"emp_stat\"].count()\n",
        "data.plot.pie(autopct=\"%.1f%%\");"
      ],
      "execution_count": null,
      "outputs": [
        {
          "output_type": "display_data",
          "data": {
            "image/png": "[encoded data removed]",
            "text/plain": [
              "<Figure size 432x288 with 1 Axes>"
            ]
          },
          "metadata": {}
        }
      ]
    },
    {
      "cell_type": "code",
      "metadata": {
        "colab": {
          "base_uri": "https://localhost:8080/",
          "height": 172
        },
        "id": "kY0Tpt3IM9gz",
        "outputId": "02a41b38-cc00-470a-c728-d626f5442de2"
      },
      "source": [
        "crosstab1 = pd.crosstab(df_new[\"emp_stat\"], df_new[\"i9_health\"], margins=False)\n",
        "crosstab1_norm = crosstab1.div(crosstab1.sum(axis=1), axis=0)\n",
        "crosstab1_norm"
      ],
      "execution_count": null,
      "outputs": [
        {
          "output_type": "execute_result",
          "data": {
            "text/html": [
              "<div>\n",
              "<style scoped>\n",
              "    .dataframe tbody tr th:only-of-type {\n",
              "        vertical-align: middle;\n",
              "    }\n",
              "\n",
              "    .dataframe tbody tr th {\n",
              "        vertical-align: top;\n",
              "    }\n",
              "\n",
              "    .dataframe thead th {\n",
              "        text-align: right;\n",
              "    }\n",
              "</style>\n",
              "<table border=\"1\" class=\"dataframe\">\n",
              "  <thead>\n",
              "    <tr style=\"text-align: right;\">\n",
              "      <th>i9_health</th>\n",
              "      <th>No</th>\n",
              "      <th>Not sure</th>\n",
              "      <th>Yes</th>\n",
              "    </tr>\n",
              "    <tr>\n",
              "      <th>emp_stat</th>\n",
              "      <th></th>\n",
              "      <th></th>\n",
              "      <th></th>\n",
              "    </tr>\n",
              "  </thead>\n",
              "  <tbody>\n",
              "    <tr>\n",
              "      <th>not_wfh</th>\n",
              "      <td>0.231032</td>\n",
              "      <td>0.112169</td>\n",
              "      <td>0.656799</td>\n",
              "    </tr>\n",
              "    <tr>\n",
              "      <th>not_working</th>\n",
              "      <td>0.175830</td>\n",
              "      <td>0.097783</td>\n",
              "      <td>0.726387</td>\n",
              "    </tr>\n",
              "    <tr>\n",
              "      <th>wfh</th>\n",
              "      <td>0.166886</td>\n",
              "      <td>0.060885</td>\n",
              "      <td>0.772230</td>\n",
              "    </tr>\n",
              "  </tbody>\n",
              "</table>\n",
              "</div>"
            ],
            "text/plain": [
              "i9_health          No  Not sure       Yes\n",
              "emp_stat                                 \n",
              "not_wfh      0.231032  0.112169  0.656799\n",
              "not_working  0.175830  0.097783  0.726387\n",
              "wfh          0.166886  0.060885  0.772230"
            ]
          },
          "metadata": {},
          "execution_count": 44
        }
      ]
    },
    {
      "cell_type": "code",
      "metadata": {
        "colab": {
          "base_uri": "https://localhost:8080/",
          "height": 348
        },
        "id": "1-50kHieM_bt",
        "outputId": "c6758138-6b05-4d06-aabb-80054ce76710"
      },
      "source": [
        "crosstab1_norm.plot(kind = 'bar', stacked = True)"
      ],
      "execution_count": null,
      "outputs": [
        {
          "output_type": "execute_result",
          "data": {
            "text/plain": [
              "<matplotlib.axes._subplots.AxesSubplot at 0x7f44c7bc98d0>"
            ]
          },
          "metadata": {},
          "execution_count": 52
        },
        {
          "output_type": "display_data",
          "data": {
            "image/png": "[encoded data removed]",
            "text/plain": [
              "<Figure size 432x288 with 1 Axes>"
            ]
          },
          "metadata": {
            "needs_background": "light"
          }
        }
      ]
    },
    {
      "cell_type": "markdown",
      "metadata": {
        "id": "GBxUqXGR5n-i"
      },
      "source": [
        "**Heatmap for Catagorical Predictors**"
      ]
    },
    {
      "cell_type": "code",
      "metadata": {
        "colab": {
          "base_uri": "https://localhost:8080/",
          "height": 411
        },
        "id": "jvkjNPFBkXen",
        "outputId": "c37d1452-6d80-4007-e9b3-6d65216cd118"
      },
      "source": [
        "#i10_health\n",
        "\"\"\"sns.heatmap(pd.crosstab([df_new.i9_health], [df_new.i10_health]), cmap=\"YlGnBu\", annot=True, cbar=False)\"\"\"\n",
        "crosstab_i10 = pd.crosstab(df_new[\"i9_health\"], df_new[\"i10_health\"], margins=False)\n",
        "crosstab_i10_norm = crosstab_i10.div(crosstab_i10.sum(axis=1), axis=0)\n",
        "\n",
        "sns.heatmap(crosstab_i10_norm, cmap=\"YlGnBu\", annot=True, cbar=False)"
      ],
      "execution_count": null,
      "outputs": [
        {
          "output_type": "execute_result",
          "data": {
            "text/plain": [
              "<matplotlib.axes._subplots.AxesSubplot at 0x7f44d325d690>"
            ]
          },
          "metadata": {},
          "execution_count": 54
        },
        {
          "output_type": "display_data",
          "data": {
            "image/png": "[encoded data removed]",
            "text/plain": [
              "<Figure size 432x288 with 1 Axes>"
            ]
          },
          "metadata": {
            "needs_background": "light"
          }
        }
      ]
    },
    {
      "cell_type": "code",
      "metadata": {
        "colab": {
          "base_uri": "https://localhost:8080/",
          "height": 428
        },
        "id": "3Xw8IQlq5n-i",
        "outputId": "d6fd0fd5-ce0c-4a5d-93a0-32ee6df5dbfb"
      },
      "source": [
        "#i11_health\n",
        "\"\"\"sns.heatmap(pd.crosstab([df_new.i9_health], [df_new.i11_health]), cmap=\"YlGnBu\", annot=True, cbar=False)\"\"\"\n",
        "crosstab_i11 = pd.crosstab(df_new[\"i9_health\"], df_new[\"i11_health\"], margins=False)\n",
        "crosstab_i11_norm = crosstab_i11.div(crosstab_i11.sum(axis=1), axis=0)\n",
        "\n",
        "sns.heatmap(crosstab_i11_norm, cmap=\"YlGnBu\", annot=True, cbar=False)"
      ],
      "execution_count": null,
      "outputs": [
        {
          "output_type": "execute_result",
          "data": {
            "text/plain": [
              "<matplotlib.axes._subplots.AxesSubplot at 0x7f44c4193150>"
            ]
          },
          "metadata": {},
          "execution_count": 65
        },
        {
          "output_type": "display_data",
          "data": {
            "image/png": "[encoded data removed]",
            "text/plain": [
              "<Figure size 432x288 with 1 Axes>"
            ]
          },
          "metadata": {
            "needs_background": "light"
          }
        }
      ]
    },
    {
      "cell_type": "code",
      "metadata": {
        "colab": {
          "base_uri": "https://localhost:8080/",
          "height": 297
        },
        "id": "sGbXWdv25n-j",
        "outputId": "66139c2e-db37-4bd7-cd11-ee8254ae36c2"
      },
      "source": [
        "#i12_health_20 -> all i12_health seems to follow a similar trnd. People who follow the proper hygine practices seem to be more willing to isolate\n",
        "\"\"\"sns.heatmap(pd.crosstab([df_new.i9_health], [df_new.i12_health_20]), cmap=\"YlGnBu\", annot=True, cbar=False)\"\"\"\n",
        "\n",
        "crosstab_i12 = pd.crosstab(df_new[\"i9_health\"], df_new[\"i12_health_20\"], margins=False)\n",
        "crosstab_i12_norm = crosstab_i12.div(crosstab_i12.sum(axis=1), axis=0)\n",
        "\n",
        "sns.heatmap(crosstab_i12_norm, cmap=\"YlGnBu\", annot=True, cbar=False)"
      ],
      "execution_count": null,
      "outputs": [
        {
          "output_type": "execute_result",
          "data": {
            "text/plain": [
              "<matplotlib.axes._subplots.AxesSubplot at 0x7f44c41baa10>"
            ]
          },
          "metadata": {},
          "execution_count": 64
        },
        {
          "output_type": "display_data",
          "data": {
            "image/png": "[encoded data removed]",
            "text/plain": [
              "<Figure size 432x288 with 1 Axes>"
            ]
          },
          "metadata": {
            "needs_background": "light"
          }
        }
      ]
    },
    {
      "cell_type": "code",
      "metadata": {
        "colab": {
          "base_uri": "https://localhost:8080/",
          "height": 297
        },
        "id": "8GbSo1Es5n-k",
        "outputId": "bb60bb95-ac9d-4cdb-957b-36ee4c91ff1d"
      },
      "source": [
        "#d1_health_99\n",
        "\"\"\"sns.heatmap(pd.crosstab([df_new.i9_health], [df_new.d1_health_99]), cmap=\"YlGnBu\", annot=True, cbar=False)\"\"\"\n",
        "\n",
        "crosstab_d1 = pd.crosstab(df_new[\"i9_health\"], df_new[\"d1_health_99\"], margins=False)\n",
        "crosstab_d1_norm = crosstab_d1.div(crosstab_d1.sum(axis=1), axis=0)\n",
        "\n",
        "sns.heatmap(crosstab_d1_norm, cmap=\"YlGnBu\", annot=True, cbar=False)"
      ],
      "execution_count": null,
      "outputs": [
        {
          "output_type": "execute_result",
          "data": {
            "text/plain": [
              "<matplotlib.axes._subplots.AxesSubplot at 0x7f44c435a690>"
            ]
          },
          "metadata": {},
          "execution_count": 61
        },
        {
          "output_type": "display_data",
          "data": {
            "image/png": "[encoded data removed]",
            "text/plain": [
              "<Figure size 432x288 with 1 Axes>"
            ]
          },
          "metadata": {
            "needs_background": "light"
          }
        }
      ]
    },
    {
      "cell_type": "code",
      "metadata": {
        "colab": {
          "base_uri": "https://localhost:8080/",
          "height": 296
        },
        "id": "jw4voaIP5n-k",
        "outputId": "df774f00-6b98-4e5b-f51d-8d39684cabf9"
      },
      "source": [
        "#gender\n",
        "\"\"\"sns.heatmap(pd.crosstab([df_new.i9_health], [df_new.gender]), cmap=\"YlGnBu\", annot=True, cbar=False)\"\"\"\n",
        "crosstab_g = pd.crosstab(df_new[\"i9_health\"], df_new[\"gender\"], margins=False)\n",
        "crosstab_g_norm = crosstab_g.div(crosstab_g.sum(axis=1), axis=0)\n",
        "\n",
        "sns.heatmap(crosstab_g_norm, cmap=\"YlGnBu\", annot=True, cbar=False)"
      ],
      "execution_count": null,
      "outputs": [
        {
          "output_type": "execute_result",
          "data": {
            "text/plain": [
              "<matplotlib.axes._subplots.AxesSubplot at 0x7f44c42b9510>"
            ]
          },
          "metadata": {},
          "execution_count": 62
        },
        {
          "output_type": "display_data",
          "data": {
            "image/png": "[encoded data removed]",
            "text/plain": [
              "<Figure size 432x288 with 1 Axes>"
            ]
          },
          "metadata": {
            "needs_background": "light"
          }
        }
      ]
    },
    {
      "cell_type": "code",
      "metadata": {
        "colab": {
          "base_uri": "https://localhost:8080/",
          "height": 370
        },
        "id": "j8kAiCyE5n-k",
        "outputId": "6dca7879-6109-4e6c-fe90-630f42b4a425"
      },
      "source": [
        "#household_size\n",
        "\"\"\"sns.heatmap(pd.crosstab([df_new.i9_health], [df_new.household_size]), cmap=\"YlGnBu\", annot=True, cbar=False)\"\"\"\n",
        "crosstab_hs = pd.crosstab(df_new[\"i9_health\"], df_new[\"household_size\"], margins=False)\n",
        "crosstab_hs_norm = crosstab_hs.div(crosstab_hs.sum(axis=1), axis=0)\n",
        "\n",
        "sns.heatmap(crosstab_hs_norm, cmap=\"YlGnBu\", annot=True, cbar=False)"
      ],
      "execution_count": null,
      "outputs": [
        {
          "output_type": "execute_result",
          "data": {
            "text/plain": [
              "<matplotlib.axes._subplots.AxesSubplot at 0x7f44c428fbd0>"
            ]
          },
          "metadata": {},
          "execution_count": 63
        },
        {
          "output_type": "display_data",
          "data": {
            "image/png": "[encoded data removed]",
            "text/plain": [
              "<Figure size 432x288 with 1 Axes>"
            ]
          },
          "metadata": {
            "needs_background": "light"
          }
        }
      ]
    },
    {
      "cell_type": "code",
      "metadata": {
        "colab": {
          "base_uri": "https://localhost:8080/",
          "height": 370
        },
        "id": "YFS87y_E5n-l",
        "outputId": "a053d52d-d929-4fdc-a647-0005fecc768c"
      },
      "source": [
        "#household_children\n",
        "\"\"\"sns.heatmap(pd.crosstab([df_new.i9_health], [df_new.household_children]), cmap=\"YlGnBu\", annot=True, cbar=False)\"\"\"\n",
        "crosstab_hc = pd.crosstab(df_new[\"i9_health\"], df_new[\"household_children\"], margins=False)\n",
        "crosstab_hc_norm = crosstab_hc.div(crosstab_hc.sum(axis=1), axis=0)\n",
        "\n",
        "sns.heatmap(crosstab_hc_norm, cmap=\"YlGnBu\", annot=True, cbar=False)"
      ],
      "execution_count": null,
      "outputs": [
        {
          "output_type": "execute_result",
          "data": {
            "text/plain": [
              "<matplotlib.axes._subplots.AxesSubplot at 0x7f44c3fdbe90>"
            ]
          },
          "metadata": {},
          "execution_count": 67
        },
        {
          "output_type": "display_data",
          "data": {
            "image/png": "[encoded data removed]",
            "text/plain": [
              "<Figure size 432x288 with 1 Axes>"
            ]
          },
          "metadata": {
            "needs_background": "light"
          }
        }
      ]
    },
    {
      "cell_type": "code",
      "metadata": {
        "colab": {
          "base_uri": "https://localhost:8080/",
          "height": 298
        },
        "id": "h5YlJFAG5n-l",
        "outputId": "fa6f3124-a5d1-4955-ac1d-bcf3c235248c"
      },
      "source": [
        "#emp_stat\n",
        "\"\"\"sns.heatmap(pd.crosstab([df_new.i9_health], [df_new.emp_stat]), cmap=\"YlGnBu\", annot=True, cbar=False)\"\"\"\n",
        "\n",
        "crosstab_emp = pd.crosstab(df_new[\"i9_health\"], df_new[\"emp_stat\"], margins=False)\n",
        "crosstab_emp_norm = crosstab_emp.div(crosstab_emp.sum(axis=1), axis=0)\n",
        "\n",
        "sns.heatmap(crosstab_emp_norm, cmap=\"YlGnBu\", annot=True, cbar=False)"
      ],
      "execution_count": null,
      "outputs": [
        {
          "output_type": "execute_result",
          "data": {
            "text/plain": [
              "<matplotlib.axes._subplots.AxesSubplot at 0x7f44c4119f50>"
            ]
          },
          "metadata": {},
          "execution_count": 68
        },
        {
          "output_type": "display_data",
          "data": {
            "image/png": "[encoded data removed]",
            "text/plain": [
              "<Figure size 432x288 with 1 Axes>"
            ]
          },
          "metadata": {
            "needs_background": "light"
          }
        }
      ]
    },
    {
      "cell_type": "markdown",
      "metadata": {
        "id": "O9v-sxFFkBKl"
      },
      "source": [
        "- Most catagorical variables are significant and can be used for KNN classification\n",
        "- EDA has uncovered interesting trends in response based on Gender, Employement etc."
      ]
    },
    {
      "cell_type": "markdown",
      "metadata": {
        "id": "R_cyk9t-yyt7"
      },
      "source": [
        "\n",
        "## Relationship between i9_health and other numeric variables\n",
        "\n"
      ]
    },
    {
      "cell_type": "markdown",
      "metadata": {
        "id": "A874M2335n-m"
      },
      "source": [
        "### 1. Age"
      ]
    },
    {
      "cell_type": "code",
      "metadata": {
        "colab": {
          "base_uri": "https://localhost:8080/",
          "height": 280
        },
        "id": "oX28hU7M5MoC",
        "outputId": "6890911e-f99f-4fa3-986c-3156033f165f"
      },
      "source": [
        "ax, figure = plt.subplots()\n",
        "ax = sns.boxplot(y=\"age\", x=\"i9_health\", data=df_new)"
      ],
      "execution_count": null,
      "outputs": [
        {
          "output_type": "display_data",
          "data": {
            "image/png": "[encoded data removed]",
            "text/plain": [
              "<Figure size 432x288 with 1 Axes>"
            ]
          },
          "metadata": {
            "needs_background": "light"
          }
        }
      ]
    },
    {
      "cell_type": "code",
      "metadata": {
        "id": "GrmRtHdL5n-n",
        "colab": {
          "base_uri": "https://localhost:8080/",
          "height": 242
        },
        "outputId": "d526af16-7f0e-42a1-bf1c-d09141968564"
      },
      "source": [
        "cond_plot = sns.FacetGrid(data=df_new, col='i9_health', col_wrap=4)\n",
        "cond_plot.map(sns.histplot, 'age')\n",
        "cond_plot.set(xlim=(0,100))"
      ],
      "execution_count": null,
      "outputs": [
        {
          "output_type": "execute_result",
          "data": {
            "text/plain": [
              "<seaborn.axisgrid.FacetGrid at 0x7f44c885f050>"
            ]
          },
          "metadata": {},
          "execution_count": 24
        },
        {
          "output_type": "display_data",
          "data": {
            "image/png": "[encoded data removed]",
            "text/plain": [
              "<Figure size 864x216 with 3 Axes>"
            ]
          },
          "metadata": {
            "needs_background": "light"
          }
        }
      ]
    },
    {
      "cell_type": "code",
      "metadata": {
        "id": "CT3FeaxzhDTu",
        "colab": {
          "base_uri": "https://localhost:8080/"
        },
        "outputId": "cece64e0-02ff-42a8-a7ba-e1e6e7f8506b"
      },
      "source": [
        "# one-way anova between age and i9_health\n",
        "fvalue, pvalue = stats.f_oneway(df_new[df_new['i9_health'] == 'Yes']['age'], df_new[df_new['i9_health'] == 'No']['age'], df_new[df_new['i9_health'] == 'Not sure']['age'])\n",
        "print(fvalue, pvalue)"
      ],
      "execution_count": null,
      "outputs": [
        {
          "output_type": "stream",
          "name": "stdout",
          "text": [
            "387.8585094680111 8.68949543116269e-167\n"
          ]
        }
      ]
    },
    {
      "cell_type": "markdown",
      "metadata": {
        "id": "rHbLTHll5n-o"
      },
      "source": [
        "### i1_health"
      ]
    },
    {
      "cell_type": "code",
      "metadata": {
        "id": "cMtSLHCA5n-o",
        "colab": {
          "base_uri": "https://localhost:8080/",
          "height": 301
        },
        "outputId": "6a76f7bd-c385-4b97-a76b-e7a87a2fb066"
      },
      "source": [
        "ax, figure = plt.subplots()\n",
        "ax = sns.boxplot(y=\"i1_health\", x=\"i9_health\", data=df_new)\n",
        "ax.set(ylim=(0, 10))"
      ],
      "execution_count": null,
      "outputs": [
        {
          "output_type": "execute_result",
          "data": {
            "text/plain": [
              "[(0.0, 10.0)]"
            ]
          },
          "metadata": {},
          "execution_count": 69
        },
        {
          "output_type": "display_data",
          "data": {
            "image/png": "[encoded data removed]",
            "text/plain": [
              "<Figure size 432x288 with 1 Axes>"
            ]
          },
          "metadata": {
            "needs_background": "light"
          }
        }
      ]
    },
    {
      "cell_type": "code",
      "metadata": {
        "id": "VTY7ZViO5n-o",
        "colab": {
          "base_uri": "https://localhost:8080/",
          "height": 242
        },
        "outputId": "95e1929f-21d0-46aa-d22c-93a5a788353e"
      },
      "source": [
        "cond_plot = sns.FacetGrid(data=df_new, col='i9_health', col_wrap=4)\n",
        "cond_plot.map(sns.histplot, 'i1_health')\n",
        "cond_plot.set(xlim=(0,10))"
      ],
      "execution_count": null,
      "outputs": [
        {
          "output_type": "execute_result",
          "data": {
            "text/plain": [
              "<seaborn.axisgrid.FacetGrid at 0x7f44c3ec4390>"
            ]
          },
          "metadata": {},
          "execution_count": 70
        },
        {
          "output_type": "display_data",
          "data": {
            "image/png": "[encoded data removed]",
            "text/plain": [
              "<Figure size 864x216 with 3 Axes>"
            ]
          },
          "metadata": {
            "needs_background": "light"
          }
        }
      ]
    },
    {
      "cell_type": "code",
      "metadata": {
        "id": "xRYbheuBiV_e",
        "colab": {
          "base_uri": "https://localhost:8080/"
        },
        "outputId": "71482148-ef54-41e1-b9bf-3e0309616f39"
      },
      "source": [
        "# one-way anova between i1_health and i9_health\n",
        "fvalue, pvalue = stats.f_oneway(df_new[df_new['i9_health'] == 'Yes']['i1_health'], df_new[df_new['i9_health'] == 'No']['i1_health'], df_new[df_new['i9_health'] == 'Not sure']['i1_health'])\n",
        "print(fvalue, pvalue)"
      ],
      "execution_count": null,
      "outputs": [
        {
          "output_type": "stream",
          "name": "stdout",
          "text": [
            "15.748839352140875 1.4600526313759848e-07\n"
          ]
        }
      ]
    },
    {
      "cell_type": "markdown",
      "metadata": {
        "id": "RsKgpSiA5n-p"
      },
      "source": [
        "### i2_health"
      ]
    },
    {
      "cell_type": "code",
      "metadata": {
        "id": "OGvj5x8q5n-p",
        "colab": {
          "base_uri": "https://localhost:8080/",
          "height": 301
        },
        "outputId": "0bbaa3a1-16b4-4064-a984-edfe0d95c582"
      },
      "source": [
        "ax, figure = plt.subplots()\n",
        "ax = sns.boxplot(y=\"i2_health\", x=\"i9_health\", data=df_new)\n",
        "ax.set(ylim=(0, 25))"
      ],
      "execution_count": null,
      "outputs": [
        {
          "output_type": "execute_result",
          "data": {
            "text/plain": [
              "[(0.0, 25.0)]"
            ]
          },
          "metadata": {},
          "execution_count": 72
        },
        {
          "output_type": "display_data",
          "data": {
            "image/png": "[encoded data removed]",
            "text/plain": [
              "<Figure size 432x288 with 1 Axes>"
            ]
          },
          "metadata": {
            "needs_background": "light"
          }
        }
      ]
    },
    {
      "cell_type": "code",
      "metadata": {
        "id": "rQl-eWxP5n-q",
        "colab": {
          "base_uri": "https://localhost:8080/",
          "height": 242
        },
        "outputId": "3a5e7246-f03f-4ef9-ec27-7cc144e01894"
      },
      "source": [
        "cond_plot = sns.FacetGrid(data=df_new, col='i9_health', col_wrap=4)\n",
        "cond_plot.map(sns.histplot, 'i2_health')\n",
        "cond_plot.set(xlim=(0,25))"
      ],
      "execution_count": null,
      "outputs": [
        {
          "output_type": "execute_result",
          "data": {
            "text/plain": [
              "<seaborn.axisgrid.FacetGrid at 0x7f44bbd286d0>"
            ]
          },
          "metadata": {},
          "execution_count": 73
        },
        {
          "output_type": "display_data",
          "data": {
            "image/png": "[encoded data removed]",
            "text/plain": [
              "<Figure size 864x216 with 3 Axes>"
            ]
          },
          "metadata": {
            "needs_background": "light"
          }
        }
      ]
    },
    {
      "cell_type": "code",
      "metadata": {
        "id": "8VK_81vuinSR",
        "colab": {
          "base_uri": "https://localhost:8080/"
        },
        "outputId": "02c4e7c3-6a1a-465c-8080-52be2169de87"
      },
      "source": [
        "# one-way anova between i2_health and i9_health\n",
        "fvalue, pvalue = stats.f_oneway(df_new[df_new['i9_health'] == 'Yes']['i2_health'], df_new[df_new['i9_health'] == 'No']['i2_health'], df_new[df_new['i9_health'] == 'Not sure']['i2_health'])\n",
        "print(fvalue, pvalue)"
      ],
      "execution_count": null,
      "outputs": [
        {
          "output_type": "stream",
          "name": "stdout",
          "text": [
            "20.627912329804737 1.117574687617769e-09\n"
          ]
        }
      ]
    },
    {
      "cell_type": "markdown",
      "metadata": {
        "id": "nPZv6JTp5n-r"
      },
      "source": [
        "### i7a_health"
      ]
    },
    {
      "cell_type": "code",
      "metadata": {
        "id": "g3eTSWXF5n-r",
        "colab": {
          "base_uri": "https://localhost:8080/",
          "height": 301
        },
        "outputId": "e98d9cd2-e443-41ef-bcec-d66628fe1d17"
      },
      "source": [
        "ax, figure = plt.subplots()\n",
        "ax = sns.boxplot(y=\"i7a_health\", x=\"i9_health\", data=df_new)\n",
        "ax.set(ylim=(0, 8))"
      ],
      "execution_count": null,
      "outputs": [
        {
          "output_type": "execute_result",
          "data": {
            "text/plain": [
              "[(0.0, 8.0)]"
            ]
          },
          "metadata": {},
          "execution_count": 26
        },
        {
          "output_type": "display_data",
          "data": {
            "image/png": "[encoded data removed]",
            "text/plain": [
              "<Figure size 432x288 with 1 Axes>"
            ]
          },
          "metadata": {
            "needs_background": "light"
          }
        }
      ]
    },
    {
      "cell_type": "code",
      "metadata": {
        "id": "qg50URnU5n-s",
        "colab": {
          "base_uri": "https://localhost:8080/",
          "height": 280
        },
        "outputId": "0912ae87-f05e-43b7-f1e4-429255b01650"
      },
      "source": [
        "df_mean = df_new.groupby('i9_health')['i7a_health'].mean()\n",
        "df_mean = df_mean.reset_index()\n",
        "plt.bar(df_mean['i9_health'],df_mean['i7a_health'])\n",
        "plt.xlabel(\"i9_health\")\n",
        "plt.ylabel(\"How many times left home yesterday\")\n",
        "plt.show()"
      ],
      "execution_count": null,
      "outputs": [
        {
          "output_type": "display_data",
          "data": {
            "image/png": "[encoded data removed]",
            "text/plain": [
              "<Figure size 432x288 with 1 Axes>"
            ]
          },
          "metadata": {
            "needs_background": "light"
          }
        }
      ]
    },
    {
      "cell_type": "code",
      "metadata": {
        "id": "SdqKM4_4i0FQ",
        "colab": {
          "base_uri": "https://localhost:8080/"
        },
        "outputId": "3eecabf1-ffe9-4f35-dd9f-2214b473da1e"
      },
      "source": [
        "# one-way anova between i7a_health and i9_health\n",
        "fvalue, pvalue = stats.f_oneway(df_new[df_new['i9_health'] == 'Yes']['i7a_health'], df_new[df_new['i9_health'] == 'No']['i7a_health'], df_new[df_new['i9_health'] == 'Not sure']['i7a_health'])\n",
        "print(fvalue, pvalue)"
      ],
      "execution_count": null,
      "outputs": [
        {
          "output_type": "stream",
          "name": "stdout",
          "text": [
            "98.65142028194356 2.0542019778982728e-43\n"
          ]
        }
      ]
    },
    {
      "cell_type": "markdown",
      "metadata": {
        "id": "3Xh2AdLH5n-t"
      },
      "source": [
        "### i13_health"
      ]
    },
    {
      "cell_type": "code",
      "metadata": {
        "id": "qyX35fNP5n-t",
        "colab": {
          "base_uri": "https://localhost:8080/",
          "height": 301
        },
        "outputId": "7d3b6eaf-be8c-48ee-9f56-ce089da7a7de"
      },
      "source": [
        "ax, figure = plt.subplots()\n",
        "ax = sns.boxplot(y=\"i13_health\", x=\"i9_health\", data=df_new)\n",
        "ax.set(ylim=(0, 30))"
      ],
      "execution_count": null,
      "outputs": [
        {
          "output_type": "execute_result",
          "data": {
            "text/plain": [
              "[(0.0, 30.0)]"
            ]
          },
          "metadata": {},
          "execution_count": 29
        },
        {
          "output_type": "display_data",
          "data": {
            "image/png": "[encoded data removed]",
            "text/plain": [
              "<Figure size 432x288 with 1 Axes>"
            ]
          },
          "metadata": {
            "needs_background": "light"
          }
        }
      ]
    },
    {
      "cell_type": "code",
      "metadata": {
        "id": "U5yTa6RF5n-u",
        "colab": {
          "base_uri": "https://localhost:8080/",
          "height": 242
        },
        "outputId": "01da1451-b8ea-46d1-fdca-b235b452d94b"
      },
      "source": [
        "cond_plot = sns.FacetGrid(data=df_new, col='i9_health', col_wrap=4)\n",
        "cond_plot.map(sns.histplot, 'i13_health')\n",
        "cond_plot.set(xlim=(0,30))"
      ],
      "execution_count": null,
      "outputs": [
        {
          "output_type": "execute_result",
          "data": {
            "text/plain": [
              "<seaborn.axisgrid.FacetGrid at 0x7f44c849b210>"
            ]
          },
          "metadata": {},
          "execution_count": 30
        },
        {
          "output_type": "display_data",
          "data": {
            "image/png": "[encoded data removed]",
            "text/plain": [
              "<Figure size 864x216 with 3 Axes>"
            ]
          },
          "metadata": {
            "needs_background": "light"
          }
        }
      ]
    },
    {
      "cell_type": "code",
      "metadata": {
        "id": "MPq3G_7Pjsk5",
        "colab": {
          "base_uri": "https://localhost:8080/"
        },
        "outputId": "0a2b292b-ff52-45b9-a5e1-d4b52008a721"
      },
      "source": [
        "# one-way anova between i13_health and i9_health\n",
        "fvalue, pvalue = stats.f_oneway(df_new[df_new['i9_health'] == 'Yes']['i13_health'], df_new[df_new['i9_health'] == 'No']['i13_health'], df_new[df_new['i9_health'] == 'Not sure']['i13_health'])\n",
        "print(fvalue, pvalue)"
      ],
      "execution_count": null,
      "outputs": [
        {
          "output_type": "stream",
          "name": "stdout",
          "text": [
            "3.9476644758600266 0.01931090991007709\n"
          ]
        }
      ]
    },
    {
      "cell_type": "markdown",
      "metadata": {
        "id": "oXGcucc75n-v"
      },
      "source": [
        "### Weight"
      ]
    },
    {
      "cell_type": "code",
      "metadata": {
        "id": "P9iwVyHW5n-v",
        "colab": {
          "base_uri": "https://localhost:8080/",
          "height": 301
        },
        "outputId": "c4b4e8ca-3da0-4515-aa31-f49ee496c7f6"
      },
      "source": [
        "ax, figure = plt.subplots()\n",
        "ax = sns.boxplot(y=\"weight\", x=\"i9_health\", data=df_new)\n",
        "ax.set(ylim=(0, 2))"
      ],
      "execution_count": null,
      "outputs": [
        {
          "output_type": "execute_result",
          "data": {
            "text/plain": [
              "[(0.0, 2.0)]"
            ]
          },
          "metadata": {},
          "execution_count": 75
        },
        {
          "output_type": "display_data",
          "data": {
            "image/png": "[encoded data removed]",
            "text/plain": [
              "<Figure size 432x288 with 1 Axes>"
            ]
          },
          "metadata": {
            "needs_background": "light"
          }
        }
      ]
    },
    {
      "cell_type": "code",
      "metadata": {
        "id": "GZ2Q3i0f5n-v",
        "colab": {
          "base_uri": "https://localhost:8080/",
          "height": 242
        },
        "outputId": "dffac403-d2f9-4fd3-eb06-ef33cb54ce6a"
      },
      "source": [
        "cond_plot = sns.FacetGrid(data=df_new, col='i9_health', col_wrap=4)\n",
        "cond_plot.map(sns.histplot, 'weight')\n",
        "cond_plot.set(xlim=(0,3))"
      ],
      "execution_count": null,
      "outputs": [
        {
          "output_type": "execute_result",
          "data": {
            "text/plain": [
              "<seaborn.axisgrid.FacetGrid at 0x7f44b98cb2d0>"
            ]
          },
          "metadata": {},
          "execution_count": 76
        },
        {
          "output_type": "display_data",
          "data": {
            "image/png": "[encoded data removed]",
            "text/plain": [
              "<Figure size 864x216 with 3 Axes>"
            ]
          },
          "metadata": {
            "needs_background": "light"
          }
        }
      ]
    },
    {
      "cell_type": "code",
      "metadata": {
        "id": "A07nGfVzj1wT",
        "colab": {
          "base_uri": "https://localhost:8080/"
        },
        "outputId": "467a8354-9f5b-4c75-970d-7e13d75eebbc"
      },
      "source": [
        "# one-way anova between weight and i9_health\n",
        "fvalue, pvalue = stats.f_oneway(df_new[df_new['i9_health'] == 'Yes']['weight'], df_new[df_new['i9_health'] == 'No']['weight'], df_new[df_new['i9_health'] == 'Not sure']['weight'])\n",
        "print(fvalue, pvalue)"
      ],
      "execution_count": null,
      "outputs": [
        {
          "output_type": "stream",
          "name": "stdout",
          "text": [
            "11.678309067814913 8.518755384799767e-06\n"
          ]
        }
      ]
    },
    {
      "cell_type": "markdown",
      "metadata": {
        "id": "IVV86BF_X9gU"
      },
      "source": [
        "# Modeling"
      ]
    },
    {
      "cell_type": "markdown",
      "metadata": {
        "id": "kGvnT5K0QBgi"
      },
      "source": [
        "\n",
        "\n",
        "> **Dummy Variable**\n",
        "\n"
      ]
    },
    {
      "cell_type": "code",
      "metadata": {
        "id": "RYkrkGhVX_rj"
      },
      "source": [
        "# dummy variable creation\n",
        "df_dummy = df_new\n",
        "df_dummy['i9_health'] = df_dummy['i9_health'].replace(['Yes'],1)\n",
        "df_dummy['i9_health'] = df_dummy['i9_health'].replace(['No'],2)\n",
        "df_dummy['i9_health'] = df_dummy['i9_health'].replace(['Not sure'],3)\n",
        "dummy_cols = cat_cols.copy()\n",
        "dummy_cols.remove('i9_health')\n",
        "for var in dummy_cols:\n",
        "    dummy = pd.get_dummies(df_dummy[var], prefix = var)\n",
        "    df_dummy = pd.concat([df_dummy, dummy], axis = 1)\n",
        "    df_dummy = df_dummy.drop(columns = var)"
      ],
      "execution_count": null,
      "outputs": []
    },
    {
      "cell_type": "markdown",
      "metadata": {
        "id": "O5FC7YzqQcD-"
      },
      "source": [
        "\n",
        "\n",
        "> Train-Test Split\n",
        "\n"
      ]
    },
    {
      "cell_type": "code",
      "metadata": {
        "id": "VZNRJ3cDbM4P"
      },
      "source": [
        "#split data\n",
        "array = df_dummy.values\n",
        "y = array[:,3]\n",
        "array_X = df_dummy.drop(['i9_health'], axis = 1).values\n",
        "X = array_X\n",
        "test_size = 0.2\n",
        "seed = 42\n",
        "X_train, X_test, y_train, y_test = train_test_split(X,y,test_size = test_size, random_state=seed)"
      ],
      "execution_count": null,
      "outputs": []
    },
    {
      "cell_type": "markdown",
      "metadata": {
        "id": "rUcqM6w2Qvan"
      },
      "source": [
        "\n",
        "\n",
        "> Balance Training set\n",
        "\n"
      ]
    },
    {
      "cell_type": "code",
      "metadata": {
        "id": "rCTLwQbcgM6D",
        "colab": {
          "base_uri": "https://localhost:8080/"
        },
        "outputId": "eb5e66d1-2d04-4130-e70c-46d9eb073c72"
      },
      "source": [
        "unique, counts = np.unique(y_train, return_counts=True)\n",
        "print(np.asarray((unique, counts)).T)"
      ],
      "execution_count": null,
      "outputs": [
        {
          "output_type": "stream",
          "name": "stdout",
          "text": [
            "[[1.0000e+00 1.5443e+04]\n",
            " [2.0000e+00 4.0240e+03]\n",
            " [3.0000e+00 2.0480e+03]]\n"
          ]
        }
      ]
    },
    {
      "cell_type": "markdown",
      "metadata": {
        "id": "hwRyNr5lhCqb"
      },
      "source": [
        "notice data are not balanced"
      ]
    },
    {
      "cell_type": "code",
      "metadata": {
        "id": "dPUJciUtfiWa",
        "colab": {
          "base_uri": "https://localhost:8080/"
        },
        "outputId": "54004584-b311-45c9-bc26-3635bbdd29b1"
      },
      "source": [
        "# undersampling\n",
        "undersample = RandomUnderSampler(sampling_strategy='all', random_state=42)\n",
        "# fit and apply the transform\n",
        "X_train_under, y_train_under = undersample.fit_resample(X_train, y_train)"
      ],
      "execution_count": null,
      "outputs": [
        {
          "output_type": "stream",
          "name": "stderr",
          "text": [
            "/usr/local/lib/python3.7/dist-packages/sklearn/utils/deprecation.py:87: FutureWarning: Function safe_indexing is deprecated; safe_indexing is deprecated in version 0.22 and will be removed in version 0.24.\n",
            "  warnings.warn(msg, category=FutureWarning)\n"
          ]
        }
      ]
    },
    {
      "cell_type": "code",
      "metadata": {
        "id": "y45sJBYLhsFz",
        "colab": {
          "base_uri": "https://localhost:8080/"
        },
        "outputId": "2f56e58c-b2b3-4f11-f978-ff51683ac82e"
      },
      "source": [
        "unique, counts = np.unique(y_train_under, return_counts=True)\n",
        "print(np.asarray((unique, counts)).T)"
      ],
      "execution_count": null,
      "outputs": [
        {
          "output_type": "stream",
          "name": "stdout",
          "text": [
            "[[1.000e+00 2.048e+03]\n",
            " [2.000e+00 2.048e+03]\n",
            " [3.000e+00 2.048e+03]]\n"
          ]
        }
      ]
    },
    {
      "cell_type": "markdown",
      "metadata": {
        "id": "bxw6rTR9RL7m"
      },
      "source": [
        "\n",
        "\n",
        "> Standardize training set\n",
        "\n"
      ]
    },
    {
      "cell_type": "code",
      "metadata": {
        "id": "AJjJNsUrgHz1"
      },
      "source": [
        "# standardize\n",
        "scalar = StandardScaler().fit(X_train_under)\n",
        "rescaledX_train_under = scalar.transform(X_train_under)"
      ],
      "execution_count": null,
      "outputs": []
    },
    {
      "cell_type": "markdown",
      "metadata": {
        "id": "REJClR5kmc8y"
      },
      "source": [
        "now we can start training the model using rescaledX_train_under and y_train_under"
      ]
    },
    {
      "cell_type": "markdown",
      "metadata": {
        "id": "LvDgW3ePRg9J"
      },
      "source": [
        "\n",
        "\n",
        "> Optimal K\n",
        "\n"
      ]
    },
    {
      "cell_type": "code",
      "metadata": {
        "id": "-Cnufm19mZLJ"
      },
      "source": [
        "k_values = np.arange(1,25)\n",
        "param_grid = dict(n_neighbors=k_values, weights=['uniform', 'distance'])\n",
        "model = KNeighborsClassifier()\n",
        "kfold= KFold(n_splits = 10, shuffle = True)\n",
        "grid = GridSearchCV(estimator=model, param_grid = param_grid, scoring = 'accuracy', cv=kfold)\n",
        "grid_result = grid.fit(rescaledX_train_under, y_train_under)"
      ],
      "execution_count": null,
      "outputs": []
    },
    {
      "cell_type": "code",
      "metadata": {
        "id": "hFKCGkC-oUQR",
        "colab": {
          "base_uri": "https://localhost:8080/"
        },
        "outputId": "e120c5f2-aa57-43ac-e9cf-354943f0c053"
      },
      "source": [
        "print(\"Best: %f using %s\" % (grid_result.best_score_, grid_result.best_params_))"
      ],
      "execution_count": null,
      "outputs": [
        {
          "output_type": "stream",
          "name": "stdout",
          "text": [
            "Best: 0.512853 using {'n_neighbors': 21, 'weights': 'distance'}\n"
          ]
        }
      ]
    },
    {
      "cell_type": "code",
      "metadata": {
        "id": "wwukTzUdonkn",
        "colab": {
          "base_uri": "https://localhost:8080/",
          "height": 296
        },
        "outputId": "df565e7e-1047-4356-b49a-28d15f9577ef"
      },
      "source": [
        "means = grid_result.cv_results_['mean_test_score'][1::2]\n",
        "plt.plot(k_values, means)\n",
        "plt.xlabel(\"number of neighbors k\")\n",
        "plt.ylabel(\"accuracy\")"
      ],
      "execution_count": null,
      "outputs": [
        {
          "output_type": "execute_result",
          "data": {
            "text/plain": [
              "Text(0, 0.5, 'accuracy')"
            ]
          },
          "metadata": {},
          "execution_count": 96
        },
        {
          "output_type": "display_data",
          "data": {
            "image/png": "[encoded data removed]",
            "text/plain": [
              "<Figure size 432x288 with 1 Axes>"
            ]
          },
          "metadata": {
            "needs_background": "light"
          }
        }
      ]
    },
    {
      "cell_type": "markdown",
      "metadata": {
        "id": "tsScNDdORzon"
      },
      "source": [
        "When k = 21, the model achieve the highest accuracy."
      ]
    },
    {
      "cell_type": "markdown",
      "metadata": {
        "id": "zUmNl1pmR-CB"
      },
      "source": [
        "\n",
        "\n",
        "> Model Performance\n",
        "\n"
      ]
    },
    {
      "cell_type": "code",
      "metadata": {
        "id": "nPxDa1Y02yEF"
      },
      "source": [
        "model = KNeighborsClassifier(n_neighbors=21, weights='distance')\n",
        "model.fit(rescaledX_train_under, y_train_under)\n",
        "rescaledX_test = scalar.transform(X_test)"
      ],
      "execution_count": null,
      "outputs": []
    },
    {
      "cell_type": "code",
      "metadata": {
        "id": "CxYh72aH3KNF"
      },
      "source": [
        "estimates = model.predict(rescaledX_test)"
      ],
      "execution_count": null,
      "outputs": []
    },
    {
      "cell_type": "code",
      "metadata": {
        "id": "qlDDC-of3SjT",
        "colab": {
          "base_uri": "https://localhost:8080/"
        },
        "outputId": "f6107d1b-a814-42e0-b89b-9a4f24125597"
      },
      "source": [
        "confusion_matrix(y_test, estimates)"
      ],
      "execution_count": null,
      "outputs": [
        {
          "output_type": "execute_result",
          "data": {
            "text/plain": [
              "array([[2965,  637,  232],\n",
              "       [ 425,  445,  165],\n",
              "       [ 186,  130,  194]])"
            ]
          },
          "metadata": {},
          "execution_count": 103
        }
      ]
    },
    {
      "cell_type": "code",
      "metadata": {
        "id": "FwS_NTB337hX",
        "colab": {
          "base_uri": "https://localhost:8080/"
        },
        "outputId": "4153ad04-dca5-4971-8a5f-5fd2043647f4"
      },
      "source": [
        "matrix = classification_report(y_test,estimates)\n",
        "print('Classification report : \\n',matrix)"
      ],
      "execution_count": null,
      "outputs": [
        {
          "output_type": "stream",
          "name": "stdout",
          "text": [
            "Classification report : \n",
            "               precision    recall  f1-score   support\n",
            "\n",
            "         1.0       0.83      0.77      0.80      3834\n",
            "         2.0       0.37      0.43      0.40      1035\n",
            "         3.0       0.33      0.38      0.35       510\n",
            "\n",
            "    accuracy                           0.67      5379\n",
            "   macro avg       0.51      0.53      0.52      5379\n",
            "weighted avg       0.69      0.67      0.68      5379\n",
            "\n"
          ]
        }
      ]
    }
  ]
}